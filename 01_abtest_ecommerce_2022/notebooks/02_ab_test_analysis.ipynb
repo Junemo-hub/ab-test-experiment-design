{
 "cells": [
  {
   "cell_type": "code",
   "execution_count": 1,
   "id": "8ec2d08b-2f65-454a-8d2f-31fc23219684",
   "metadata": {},
   "outputs": [
    {
     "name": "stdout",
     "output_type": "stream",
     "text": [
      "<class 'pandas.core.frame.DataFrame'>\n",
      "RangeIndex: 294482 entries, 0 to 294481\n",
      "Data columns (total 6 columns):\n",
      " #   Column        Non-Null Count   Dtype \n",
      "---  ------        --------------   ----- \n",
      " 0   user_id       294482 non-null  int64 \n",
      " 1   timestamp     294482 non-null  object\n",
      " 2   group         294482 non-null  object\n",
      " 3   landing_page  294482 non-null  object\n",
      " 4   converted     294482 non-null  int64 \n",
      " 5   country       294482 non-null  object\n",
      "dtypes: int64(2), object(4)\n",
      "memory usage: 13.5+ MB\n"
     ]
    },
    {
     "data": {
      "text/plain": [
       "(   user_id timestamp      group landing_page  converted country\n",
       " 0   851104   11:48.6    control     old_page          0      US\n",
       " 1   804228   01:45.2    control     old_page          0      US\n",
       " 2   661590   55:06.2  treatment     new_page          0      US\n",
       " 3   853541   28:03.1  treatment     new_page          0      US\n",
       " 4   864975   52:26.2    control     old_page          1      US,\n",
       " None)"
      ]
     },
     "execution_count": 1,
     "metadata": {},
     "output_type": "execute_result"
    }
   ],
   "source": [
    "import pandas as pd\n",
    "import numpy as np\n",
    "from statsmodels.stats.proportion import proportions_ztest\n",
    "from scipy.stats import chi2_contingency\n",
    "import matplotlib.pyplot as plt\n",
    "import seaborn as sns\n",
    "\n",
    "\n",
    "# 데이터 로드\n",
    "df_ab = pd.read_csv('../data/ab_data.csv')\n",
    "df_ct = pd.read_csv('../data/countries.csv')\n",
    "\n",
    "# 데이터 합치기\n",
    "df = pd.merge(df_ab, df_ct, on='user_id', how='left')\n",
    "df.head(), df.info()"
   ]
  },
  {
   "cell_type": "code",
   "execution_count": 2,
   "id": "b318cd36-2e51-4161-9490-693dde9faef9",
   "metadata": {},
   "outputs": [
    {
     "name": "stdout",
     "output_type": "stream",
     "text": [
      "🔍 전환 요약:\n",
      "            conversions   total\n",
      "group                         \n",
      "control          17723  147202\n",
      "treatment        17514  147280\n"
     ]
    }
   ],
   "source": [
    "# 1. 그룹별 전환 수와 전체 수 계산\n",
    "summary = df.groupby('group')['converted'].agg(['sum', 'count']).rename(columns={'sum': 'conversions', 'count': 'total'})\n",
    "print(\"🔍 전환 요약:\\n\", summary)\n"
   ]
  },
  {
   "cell_type": "code",
   "execution_count": 3,
   "id": "90f849a6-be2a-4c95-8470-444c7c931869",
   "metadata": {},
   "outputs": [
    {
     "name": "stdout",
     "output_type": "stream",
     "text": [
      "Z-statistic: 1.2396\n",
      "P-value: 0.2151\n",
      "❌ 유의미한 차이는 없습니다.\n"
     ]
    }
   ],
   "source": [
    "# 2. Z-test for proportions (전환율 비교)\n",
    "count = summary['conversions'].values  # 성공 수\n",
    "nobs = summary['total'].values         # 전체 수\n",
    "\n",
    "z_stat, p_value = proportions_ztest(count, nobs)\n",
    "print(f\"Z-statistic: {z_stat:.4f}\")\n",
    "print(f\"P-value: {p_value:.4f}\")\n",
    "\n",
    "alpha = 0.05\n",
    "if p_value < alpha:\n",
    "    print(\"✅ 통계적으로 유의미한 차이가 있습니다.\")\n",
    "else:\n",
    "    print(\"❌ 유의미한 차이는 없습니다.\")\n"
   ]
  },
  {
   "cell_type": "code",
   "execution_count": 4,
   "id": "a061a7d6-7be5-4ca4-a7a9-038b80085180",
   "metadata": {},
   "outputs": [
    {
     "name": "stdout",
     "output_type": "stream",
     "text": [
      "\n",
      "Chi-squared: 1.5227\n",
      "Chi-squared P-value: 0.2172\n"
     ]
    }
   ],
   "source": [
    "# 3. Chi-squared test (독립성 검정)\n",
    "contingency = pd.crosstab(df['group'], df['converted'])\n",
    "chi2, p_chi, _, _ = chi2_contingency(contingency)\n",
    "\n",
    "print(f\"\\nChi-squared: {chi2:.4f}\")\n",
    "print(f\"Chi-squared P-value: {p_chi:.4f}\")\n"
   ]
  },
  {
   "cell_type": "code",
   "execution_count": 5,
   "id": "e0a24df4-84f8-4bfe-beab-aaebbe071e71",
   "metadata": {},
   "outputs": [
    {
     "name": "stdout",
     "output_type": "stream",
     "text": [
      "\n",
      "Cohen's h (효과 크기): 0.0046\n",
      "📏 효과 크기 해석: 매우 작은 효과\n"
     ]
    }
   ],
   "source": [
    "# 4. 효과 크기 계산 (Cohen's h)\n",
    "from math import asin, sqrt\n",
    "\n",
    "p1 = count[0] / nobs[0]\n",
    "p2 = count[1] / nobs[1]\n",
    "cohen_h = 2 * (asin(sqrt(p1)) - asin(sqrt(p2)))\n",
    "\n",
    "if abs(cohen_h) < 0.2:\n",
    "    interpret = '매우 작은 효과'\n",
    "elif abs(cohen_h) < 0.5:\n",
    "    interpret = '작은 효과'\n",
    "elif abs(cohen_h) < 0.8:\n",
    "    interpret = '중간 정도 효과'\n",
    "else:\n",
    "    interpret = '큰 효과'\n",
    "    \n",
    "print(f\"\\nCohen's h (효과 크기): {cohen_h:.4f}\")\n",
    "print(f\"📏 효과 크기 해석: {interpret}\")\n"
   ]
  },
  {
   "cell_type": "code",
   "execution_count": 6,
   "id": "c9f6d211-4595-4cfa-80fd-cd18808d65d0",
   "metadata": {},
   "outputs": [
    {
     "data": {
      "image/png": "[encoded data removed]",
      "text/plain": [
       "<Figure size 640x480 with 1 Axes>"
      ]
     },
     "metadata": {},
     "output_type": "display_data"
    }
   ],
   "source": [
    "# 5. 시각화 - 전환율 차이 시각화\n",
    "\n",
    "import matplotlib.pyplot as plt\n",
    "import matplotlib as mpl\n",
    "\n",
    "# 한글 깨짐 방지 설정\n",
    "mpl.rcParams['font.family'] = 'Malgun Gothic'  # Windows 사용자용\n",
    "mpl.rcParams['axes.unicode_minus'] = False     # 마이너스(-) 깨짐 방지\n",
    "\n",
    "### 위까진 폰트 내용임 ###\n",
    "\n",
    "summary['conversion_rate'] = summary['conversions'] / summary['total']\n",
    "summary.reset_index(inplace=True)\n",
    "\n",
    "sns.barplot(data=summary, x='group', y='conversion_rate')\n",
    "plt.title('Control vs Treatment 전환율 비교')\n",
    "plt.ylabel('Conversion Rate')\n",
    "plt.savefig('../outputs/figures/7_conversion_rate_comparison.png')\n",
    "plt.show()\n"
   ]
  },
  {
   "cell_type": "code",
   "execution_count": 7,
   "id": "b767b92d-6a7c-4e0b-8154-205a63d31d27",
   "metadata": {},
   "outputs": [
    {
     "name": "stdout",
     "output_type": "stream",
     "text": [
      "신뢰구간(Control): [0.1187, 0.1221]\n",
      "신뢰구간(Treatment): [0.1173, 0.1206]\n"
     ]
    }
   ],
   "source": [
    "import statsmodels.api as sm\n",
    "\n",
    "ci_low, ci_upp = sm.stats.proportion_confint(count, nobs, alpha=0.05, method='normal')\n",
    "print(f\"신뢰구간(Control): [{ci_low[0]:.4f}, {ci_upp[0]:.4f}]\")\n",
    "print(f\"신뢰구간(Treatment): [{ci_low[1]:.4f}, {ci_upp[1]:.4f}]\")\n"
   ]
  }
 ],
 "metadata": {
  "kernelspec": {
   "display_name": "Python 3 (ipykernel)",
   "language": "python",
   "name": "python3"
  },
  "language_info": {
   "codemirror_mode": {
    "name": "ipython",
    "version": 3
   },
   "file_extension": ".py",
   "mimetype": "text/x-python",
   "name": "python",
   "nbconvert_exporter": "python",
   "pygments_lexer": "ipython3",
   "version": "3.12.3"
  }
 },
 "nbformat": 4,
 "nbformat_minor": 5
}
