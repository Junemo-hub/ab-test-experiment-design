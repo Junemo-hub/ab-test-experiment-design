{
 "cells": [
  {
   "cell_type": "code",
   "execution_count": 1,
   "id": "8ec2d08b-2f65-454a-8d2f-31fc23219684",
   "metadata": {},
   "outputs": [
    {
     "name": "stdout",
     "output_type": "stream",
     "text": [
      "<class 'pandas.core.frame.DataFrame'>\n",
      "Index: 290589 entries, 0 to 294481\n",
      "Data columns (total 6 columns):\n",
      " #   Column        Non-Null Count   Dtype \n",
      "---  ------        --------------   ----- \n",
      " 0   user_id       290589 non-null  int64 \n",
      " 1   timestamp     290589 non-null  object\n",
      " 2   group         290589 non-null  object\n",
      " 3   landing_page  290589 non-null  object\n",
      " 4   converted     290589 non-null  int64 \n",
      " 5   country       290589 non-null  object\n",
      "dtypes: int64(2), object(4)\n",
      "memory usage: 15.5+ MB\n"
     ]
    },
    {
     "data": {
      "text/plain": [
       "(   user_id timestamp      group landing_page  converted country\n",
       " 0   851104   11:48.6    control     old_page          0      US\n",
       " 1   804228   01:45.2    control     old_page          0      US\n",
       " 2   661590   55:06.2  treatment     new_page          0      US\n",
       " 3   853541   28:03.1  treatment     new_page          0      US\n",
       " 4   864975   52:26.2    control     old_page          1      US,\n",
       " None)"
      ]
     },
     "execution_count": 1,
     "metadata": {},
     "output_type": "execute_result"
    }
   ],
   "source": [
    "import pandas as pd\n",
    "import numpy as np\n",
    "from statsmodels.stats.proportion import proportions_ztest\n",
    "from scipy.stats import chi2_contingency\n",
    "import matplotlib.pyplot as plt\n",
    "import seaborn as sns\n",
    "\n",
    "\n",
    "# data load\n",
    "df_ab = pd.read_csv('../data/ab_data.csv')\n",
    "df_ct = pd.read_csv('../data/countries.csv')\n",
    "\n",
    "# data merge\n",
    "df = pd.merge(df_ab, df_ct, on='user_id', how='left')\n",
    "\n",
    "# filter/clean data정제된 실험 데이터로 필터링\n",
    "mask = ((df.group == 'control') & (df.landing_page != 'old_page')) | \\\n",
    "       ((df.group == 'treatment') & (df.landing_page != 'new_page'))\n",
    "df = df.loc[~mask].copy()\n",
    "\n",
    "\n",
    "df.head(), df.info()"
   ]
  },
  {
   "cell_type": "code",
   "execution_count": 2,
   "id": "b318cd36-2e51-4161-9490-693dde9faef9",
   "metadata": {},
   "outputs": [
    {
     "name": "stdout",
     "output_type": "stream",
     "text": [
      "🔍 summary of conversions:\n",
      "            conversions   total\n",
      "group                         \n",
      "control          17489  145274\n",
      "treatment        17264  145315\n"
     ]
    }
   ],
   "source": [
    "# 1. Calculate number of conversions and totals by group (그룹별 전환 수와 전체 수 계산)\n",
    "summary = df.groupby('group')['converted'].agg(['sum', 'count']).rename(columns={'sum': 'conversions', 'count': 'total'})\n",
    "print(\"🔍 summary of conversions:\\n\", summary)\n"
   ]
  },
  {
   "cell_type": "code",
   "execution_count": 3,
   "id": "90f849a6-be2a-4c95-8470-444c7c931869",
   "metadata": {},
   "outputs": [
    {
     "name": "stdout",
     "output_type": "stream",
     "text": [
      "Z-statistic: 1.3143\n",
      "P-value: 0.1887\n",
      "❌ No statistically significant difference.\n"
     ]
    }
   ],
   "source": [
    "# 2. Z-test for proportions (conversion rate comparison, 전환율 비교)\n",
    "count = summary['conversions'].values  # 성공 수\n",
    "nobs = summary['total'].values         # 전체 수\n",
    "\n",
    "z_stat, p_value = proportions_ztest(count, nobs)\n",
    "print(f\"Z-statistic: {z_stat:.4f}\")\n",
    "print(f\"P-value: {p_value:.4f}\")\n",
    "\n",
    "alpha = 0.05\n",
    "if p_value < alpha:\n",
    "    print(\"✅ Statistically significant difference found.\")\n",
    "else:\n",
    "    print(\"❌ No statistically significant difference.\")\n"
   ]
  },
  {
   "cell_type": "code",
   "execution_count": 4,
   "id": "a061a7d6-7be5-4ca4-a7a9-038b80085180",
   "metadata": {},
   "outputs": [
    {
     "name": "stdout",
     "output_type": "stream",
     "text": [
      "\n",
      "Chi-squared: 1.7125\n",
      "Chi-squared P-value: 0.1907\n"
     ]
    }
   ],
   "source": [
    "# 3. Chi-squared test (test for independence)\n",
    "contingency = pd.crosstab(df['group'], df['converted'])\n",
    "chi2, p_chi, _, _ = chi2_contingency(contingency)\n",
    "\n",
    "print(f\"\\nChi-squared: {chi2:.4f}\")\n",
    "print(f\"Chi-squared P-value: {p_chi:.4f}\")\n"
   ]
  },
  {
   "cell_type": "code",
   "execution_count": 5,
   "id": "e0a24df4-84f8-4bfe-beab-aaebbe071e71",
   "metadata": {},
   "outputs": [
    {
     "name": "stdout",
     "output_type": "stream",
     "text": [
      "\n",
      "Cohen's h (effect size): 0.0049\n",
      "📏 Interpretation of effect size: Very small effect\n"
     ]
    }
   ],
   "source": [
    "# 4. Calculate effect size (Cohen's h), 효과 크기 계산 (Cohen's h)\n",
    "from math import asin, sqrt\n",
    "\n",
    "p1 = count[0] / nobs[0]\n",
    "p2 = count[1] / nobs[1]\n",
    "cohen_h = 2 * (asin(sqrt(p1)) - asin(sqrt(p2)))\n",
    "\n",
    "if abs(cohen_h) < 0.2:\n",
    "    interpret = 'Very small effect'\n",
    "elif abs(cohen_h) < 0.5:\n",
    "    interpret = 'Small effect'\n",
    "elif abs(cohen_h) < 0.8:\n",
    "    interpret = 'Medium effect'\n",
    "else:\n",
    "    interpret = 'Large effect'\n",
    "    \n",
    "print(f\"\\nCohen's h (effect size): {cohen_h:.4f}\")\n",
    "print(f\"📏 Interpretation of effect size: {interpret}\")\n"
   ]
  },
  {
   "cell_type": "code",
   "execution_count": 6,
   "id": "c9f6d211-4595-4cfa-80fd-cd18808d65d0",
   "metadata": {},
   "outputs": [
    {
     "data": {
      "image/png": "[encoded data removed]",
      "text/plain": [
       "<Figure size 640x480 with 1 Axes>"
      ]
     },
     "metadata": {},
     "output_type": "display_data"
    }
   ],
   "source": [
    "# 5. Visualization - Visualizing difference in conversion rates, 시각화 - 전환율 차이 시각화\n",
    "\n",
    "import matplotlib.pyplot as plt\n",
    "import matplotlib as mpl\n",
    "\n",
    "# Prevent broken characters in Korean font\n",
    "mpl.rcParams['font.family'] = 'Malgun Gothic'  # For Windows users\n",
    "mpl.rcParams['axes.unicode_minus'] = False     # Fix for minus sign display\n",
    "\n",
    "### Font configuration ends here ###\n",
    "\n",
    "summary['conversion_rate'] = summary['conversions'] / summary['total']\n",
    "summary.reset_index(inplace=True)\n",
    "\n",
    "sns.barplot(data=summary, x='group', y='conversion_rate')\n",
    "plt.title('Conversion Rate Comparison: Control vs. Treatment')\n",
    "plt.ylabel('Conversion Rate')\n",
    "plt.savefig('../outputs/figures/3_conversion_rate_comparison.png')\n",
    "plt.show()\n"
   ]
  },
  {
   "cell_type": "code",
   "execution_count": 7,
   "id": "b767b92d-6a7c-4e0b-8154-205a63d31d27",
   "metadata": {},
   "outputs": [
    {
     "name": "stdout",
     "output_type": "stream",
     "text": [
      "Confidence Interval (Control): [0.1187, 0.1221]\n",
      "Confidence Interval (Treatment): [0.1171, 0.1205]\n"
     ]
    }
   ],
   "source": [
    "import statsmodels.api as sm\n",
    "\n",
    "ci_low, ci_upp = sm.stats.proportion_confint(count, nobs, alpha=0.05, method='normal')\n",
    "print(f\"Confidence Interval (Control): [{ci_low[0]:.4f}, {ci_upp[0]:.4f}]\")\n",
    "print(f\"Confidence Interval (Treatment): [{ci_low[1]:.4f}, {ci_upp[1]:.4f}]\")\n"
   ]
  }
 ],
 "metadata": {
  "kernelspec": {
   "display_name": "Python 3 (ipykernel)",
   "language": "python",
   "name": "python3"
  },
  "language_info": {
   "codemirror_mode": {
    "name": "ipython",
    "version": 3
   },
   "file_extension": ".py",
   "mimetype": "text/x-python",
   "name": "python",
   "nbconvert_exporter": "python",
   "pygments_lexer": "ipython3",
   "version": "3.12.3"
  }
 },
 "nbformat": 4,
 "nbformat_minor": 5
}
