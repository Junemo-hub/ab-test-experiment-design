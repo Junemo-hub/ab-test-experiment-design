{
 "cells": [
  {
   "cell_type": "code",
   "execution_count": 3,
   "id": "58dc6c8b-6d2d-4e0b-bc42-1092a0a18479",
   "metadata": {},
   "outputs": [
    {
     "name": "stdout",
     "output_type": "stream",
     "text": [
      "<class 'pandas.core.frame.DataFrame'>\n",
      "RangeIndex: 294482 entries, 0 to 294481\n",
      "Data columns (total 6 columns):\n",
      " #   Column        Non-Null Count   Dtype \n",
      "---  ------        --------------   ----- \n",
      " 0   user_id       294482 non-null  int64 \n",
      " 1   timestamp     294482 non-null  object\n",
      " 2   group         294482 non-null  object\n",
      " 3   landing_page  294482 non-null  object\n",
      " 4   converted     294482 non-null  int64 \n",
      " 5   country       294482 non-null  object\n",
      "dtypes: int64(2), object(4)\n",
      "memory usage: 13.5+ MB\n"
     ]
    },
    {
     "name": "stderr",
     "output_type": "stream",
     "text": [
      "C:\\Users\\zxcvz\\AppData\\Local\\Temp\\ipykernel_6604\\1241630613.py:44: UserWarning: Glyph 44397 (\\N{HANGUL SYLLABLE GUG}) missing from font(s) DejaVu Sans.\n",
      "  plt.savefig('../outputs/figures/04_country_subgroup_conv.png')\n",
      "C:\\Users\\zxcvz\\AppData\\Local\\Temp\\ipykernel_6604\\1241630613.py:44: UserWarning: Glyph 44032 (\\N{HANGUL SYLLABLE GA}) missing from font(s) DejaVu Sans.\n",
      "  plt.savefig('../outputs/figures/04_country_subgroup_conv.png')\n",
      "C:\\Users\\zxcvz\\AppData\\Local\\Temp\\ipykernel_6604\\1241630613.py:44: UserWarning: Glyph 48324 (\\N{HANGUL SYLLABLE BYEOL}) missing from font(s) DejaVu Sans.\n",
      "  plt.savefig('../outputs/figures/04_country_subgroup_conv.png')\n",
      "C:\\Users\\zxcvz\\AppData\\Local\\Temp\\ipykernel_6604\\1241630613.py:44: UserWarning: Glyph 44536 (\\N{HANGUL SYLLABLE GEU}) missing from font(s) DejaVu Sans.\n",
      "  plt.savefig('../outputs/figures/04_country_subgroup_conv.png')\n",
      "C:\\Users\\zxcvz\\AppData\\Local\\Temp\\ipykernel_6604\\1241630613.py:44: UserWarning: Glyph 47353 (\\N{HANGUL SYLLABLE RUB}) missing from font(s) DejaVu Sans.\n",
      "  plt.savefig('../outputs/figures/04_country_subgroup_conv.png')\n",
      "C:\\Users\\zxcvz\\AppData\\Local\\Temp\\ipykernel_6604\\1241630613.py:44: UserWarning: Glyph 51204 (\\N{HANGUL SYLLABLE JEON}) missing from font(s) DejaVu Sans.\n",
      "  plt.savefig('../outputs/figures/04_country_subgroup_conv.png')\n",
      "C:\\Users\\zxcvz\\AppData\\Local\\Temp\\ipykernel_6604\\1241630613.py:44: UserWarning: Glyph 54872 (\\N{HANGUL SYLLABLE HWAN}) missing from font(s) DejaVu Sans.\n",
      "  plt.savefig('../outputs/figures/04_country_subgroup_conv.png')\n",
      "C:\\Users\\zxcvz\\AppData\\Local\\Temp\\ipykernel_6604\\1241630613.py:44: UserWarning: Glyph 50984 (\\N{HANGUL SYLLABLE YUL}) missing from font(s) DejaVu Sans.\n",
      "  plt.savefig('../outputs/figures/04_country_subgroup_conv.png')\n",
      "C:\\Users\\zxcvz\\AppData\\Local\\Temp\\ipykernel_6604\\1241630613.py:44: UserWarning: Glyph 48708 (\\N{HANGUL SYLLABLE BI}) missing from font(s) DejaVu Sans.\n",
      "  plt.savefig('../outputs/figures/04_country_subgroup_conv.png')\n",
      "C:\\Users\\zxcvz\\AppData\\Local\\Temp\\ipykernel_6604\\1241630613.py:44: UserWarning: Glyph 44368 (\\N{HANGUL SYLLABLE GYO}) missing from font(s) DejaVu Sans.\n",
      "  plt.savefig('../outputs/figures/04_country_subgroup_conv.png')\n",
      "C:\\Users\\zxcvz\\AppData\\Local\\Programs\\Python\\Python312\\Lib\\site-packages\\IPython\\core\\pylabtools.py:170: UserWarning: Glyph 44397 (\\N{HANGUL SYLLABLE GUG}) missing from font(s) DejaVu Sans.\n",
      "  fig.canvas.print_figure(bytes_io, **kw)\n",
      "C:\\Users\\zxcvz\\AppData\\Local\\Programs\\Python\\Python312\\Lib\\site-packages\\IPython\\core\\pylabtools.py:170: UserWarning: Glyph 44032 (\\N{HANGUL SYLLABLE GA}) missing from font(s) DejaVu Sans.\n",
      "  fig.canvas.print_figure(bytes_io, **kw)\n",
      "C:\\Users\\zxcvz\\AppData\\Local\\Programs\\Python\\Python312\\Lib\\site-packages\\IPython\\core\\pylabtools.py:170: UserWarning: Glyph 48324 (\\N{HANGUL SYLLABLE BYEOL}) missing from font(s) DejaVu Sans.\n",
      "  fig.canvas.print_figure(bytes_io, **kw)\n",
      "C:\\Users\\zxcvz\\AppData\\Local\\Programs\\Python\\Python312\\Lib\\site-packages\\IPython\\core\\pylabtools.py:170: UserWarning: Glyph 44536 (\\N{HANGUL SYLLABLE GEU}) missing from font(s) DejaVu Sans.\n",
      "  fig.canvas.print_figure(bytes_io, **kw)\n",
      "C:\\Users\\zxcvz\\AppData\\Local\\Programs\\Python\\Python312\\Lib\\site-packages\\IPython\\core\\pylabtools.py:170: UserWarning: Glyph 47353 (\\N{HANGUL SYLLABLE RUB}) missing from font(s) DejaVu Sans.\n",
      "  fig.canvas.print_figure(bytes_io, **kw)\n",
      "C:\\Users\\zxcvz\\AppData\\Local\\Programs\\Python\\Python312\\Lib\\site-packages\\IPython\\core\\pylabtools.py:170: UserWarning: Glyph 51204 (\\N{HANGUL SYLLABLE JEON}) missing from font(s) DejaVu Sans.\n",
      "  fig.canvas.print_figure(bytes_io, **kw)\n",
      "C:\\Users\\zxcvz\\AppData\\Local\\Programs\\Python\\Python312\\Lib\\site-packages\\IPython\\core\\pylabtools.py:170: UserWarning: Glyph 54872 (\\N{HANGUL SYLLABLE HWAN}) missing from font(s) DejaVu Sans.\n",
      "  fig.canvas.print_figure(bytes_io, **kw)\n",
      "C:\\Users\\zxcvz\\AppData\\Local\\Programs\\Python\\Python312\\Lib\\site-packages\\IPython\\core\\pylabtools.py:170: UserWarning: Glyph 50984 (\\N{HANGUL SYLLABLE YUL}) missing from font(s) DejaVu Sans.\n",
      "  fig.canvas.print_figure(bytes_io, **kw)\n",
      "C:\\Users\\zxcvz\\AppData\\Local\\Programs\\Python\\Python312\\Lib\\site-packages\\IPython\\core\\pylabtools.py:170: UserWarning: Glyph 48708 (\\N{HANGUL SYLLABLE BI}) missing from font(s) DejaVu Sans.\n",
      "  fig.canvas.print_figure(bytes_io, **kw)\n",
      "C:\\Users\\zxcvz\\AppData\\Local\\Programs\\Python\\Python312\\Lib\\site-packages\\IPython\\core\\pylabtools.py:170: UserWarning: Glyph 44368 (\\N{HANGUL SYLLABLE GYO}) missing from font(s) DejaVu Sans.\n",
      "  fig.canvas.print_figure(bytes_io, **kw)\n"
     ]
    },
    {
     "data": {
      "image/png": "[encoded data removed]",
      "text/plain": [
       "<Figure size 1000x600 with 1 Axes>"
      ]
     },
     "metadata": {},
     "output_type": "display_data"
    },
    {
     "name": "stdout",
     "output_type": "stream",
     "text": [
      "CA: Z=1.28, p=0.202 → 차이 없음\n",
      "UK: Z=-0.33, p=0.745 → 차이 없음\n",
      "US: Z=1.34, p=0.182 → 차이 없음\n"
     ]
    }
   ],
   "source": [
    "import pandas as pd\n",
    "import numpy as np\n",
    "from statsmodels.stats.proportion import proportions_ztest\n",
    "import matplotlib.pyplot as plt\n",
    "import seaborn as sns\n",
    "\n",
    "# 데이터 로드\n",
    "df_ab = pd.read_csv('../data/ab_data.csv')\n",
    "df_ct = pd.read_csv('../data/countries.csv')\n",
    "\n",
    "# 데이터 합치기\n",
    "df = pd.merge(df_ab, df_ct, on='user_id', how='left')\n",
    "df.head(), df.info()\n",
    "# 1. 국가별 전환율 통계 요약\n",
    "country_summary = df.groupby(['country', 'group'])['converted'] \\\n",
    "    .agg(['sum', 'count']).reset_index() \\\n",
    "    .rename(columns={'sum': 'conversions', 'count': 'total'})\n",
    "country_summary['conversion_rate'] = country_summary['conversions'] / country_summary['total']\n",
    "\n",
    "# 2. 국가별 Z-test 수행\n",
    "results = []\n",
    "for country in country_summary['country'].unique():\n",
    "    subset = country_summary[country_summary['country'] == country]\n",
    "    if len(subset) == 2:\n",
    "        count = subset['conversions'].values\n",
    "        nobs = subset['total'].values\n",
    "        z_stat, p_val = proportions_ztest(count, nobs)\n",
    "        results.append({'country': country, 'z_stat': z_stat, 'p_value': p_val})\n",
    "    else:\n",
    "        results.append({'country': country, 'z_stat': np.nan, 'p_value': np.nan})\n",
    "\n",
    "country_stats = pd.DataFrame(results)\n",
    "\n",
    "# 3. 병합 및 시각화\n",
    "report = pd.merge(country_summary, country_stats, on='country')\n",
    "\n",
    "# 4. 바 시각화\n",
    "import matplotlib.pyplot as plt\n",
    "import seaborn as sns\n",
    "plt.figure(figsize=(10, 6))\n",
    "sns.barplot(data=country_summary, x='country', y='conversion_rate', hue='group')\n",
    "plt.title('국가별 그룹별 전환율 비교')\n",
    "plt.ylabel('Conversion Rate')\n",
    "plt.savefig('../outputs/figures/04_country_subgroup_conv.png')\n",
    "plt.show()\n",
    "\n",
    "# 5. 결과 해석\n",
    "for _, row in country_stats.iterrows():\n",
    "    if pd.notna(row['p_value']):\n",
    "        sig = '유의미한 차이 있음' if row['p_value'] < 0.05 else '차이 없음'\n",
    "        print(f\"{row['country']}: Z={row['z_stat']:.2f}, p={row['p_value']:.3f} → {sig}\")\n"
   ]
  },
  {
   "cell_type": "code",
   "execution_count": null,
   "id": "ffbccafa-4685-4d8f-bd97-ce0c075008fb",
   "metadata": {},
   "outputs": [],
   "source": []
  }
 ],
 "metadata": {
  "kernelspec": {
   "display_name": "Python 3 (ipykernel)",
   "language": "python",
   "name": "python3"
  },
  "language_info": {
   "codemirror_mode": {
    "name": "ipython",
    "version": 3
   },
   "file_extension": ".py",
   "mimetype": "text/x-python",
   "name": "python",
   "nbconvert_exporter": "python",
   "pygments_lexer": "ipython3",
   "version": "3.12.3"
  }
 },
 "nbformat": 4,
 "nbformat_minor": 5
}
